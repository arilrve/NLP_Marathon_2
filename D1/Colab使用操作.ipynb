{
 "cells": [
  {
   "cell_type": "code",
   "execution_count": 1,
   "metadata": {
    "colab": {
     "base_uri": "https://localhost:8080/",
     "height": 34
    },
    "colab_type": "code",
    "executionInfo": {
     "elapsed": 4374,
     "status": "ok",
     "timestamp": 1599664737077,
     "user": {
      "displayName": "GUAN HONG LIOU",
      "photoUrl": "",
      "userId": "10989021895350056421"
     },
     "user_tz": -480
    },
    "id": "gLAW9u6ybH3Y",
    "outputId": "eafc81e8-6c70-4469-9774-976c8c923d12"
   },
   "outputs": [
    {
     "data": {
      "text/plain": [
       "True"
      ]
     },
     "execution_count": 1,
     "metadata": {},
     "output_type": "execute_result"
    }
   ],
   "source": [
    "import torch\n",
    "\n",
    "torch.cuda.is_available()"
   ]
  },
  {
   "cell_type": "code",
   "execution_count": 2,
   "metadata": {
    "colab": {
     "base_uri": "https://localhost:8080/",
     "height": 357
    },
    "colab_type": "code",
    "executionInfo": {
     "elapsed": 761,
     "status": "ok",
     "timestamp": 1599664828936,
     "user": {
      "displayName": "GUAN HONG LIOU",
      "photoUrl": "",
      "userId": "10989021895350056421"
     },
     "user_tz": -480
    },
    "id": "ZEQ-sZi0c3yO",
    "outputId": "734fc79a-166e-40f7-c889-cfb4fa9def46"
   },
   "outputs": [
    {
     "name": "stdout",
     "output_type": "stream",
     "text": [
      "Mon Feb 22 23:04:47 2021       \n",
      "+-----------------------------------------------------------------------------+\n",
      "| NVIDIA-SMI 461.40       Driver Version: 461.40       CUDA Version: 11.2     |\n",
      "|-------------------------------+----------------------+----------------------+\n",
      "| GPU  Name            TCC/WDDM | Bus-Id        Disp.A | Volatile Uncorr. ECC |\n",
      "| Fan  Temp  Perf  Pwr:Usage/Cap|         Memory-Usage | GPU-Util  Compute M. |\n",
      "|                               |                      |               MIG M. |\n",
      "|===============================+======================+======================|\n",
      "|   0  GeForce RTX 2060   WDDM  | 00000000:01:00.0  On |                  N/A |\n",
      "|  0%   47C    P8    11W / 170W |   1133MiB /  6144MiB |      1%      Default |\n",
      "|                               |                      |                  N/A |\n",
      "+-------------------------------+----------------------+----------------------+\n",
      "                                                                               \n",
      "+-----------------------------------------------------------------------------+\n",
      "| Processes:                                                                  |\n",
      "|  GPU   GI   CI        PID   Type   Process name                  GPU Memory |\n",
      "|        ID   ID                                                   Usage      |\n",
      "|=============================================================================|\n",
      "|    0   N/A  N/A      1012    C+G   ...5n1h2txyewy\\SearchApp.exe    N/A      |\n",
      "|    0   N/A  N/A      1180    C+G   Insufficient Permissions        N/A      |\n",
      "|    0   N/A  N/A      2488    C+G   ...y\\ShellExperienceHost.exe    N/A      |\n",
      "|    0   N/A  N/A      4920    C+G   ...LINE\\bin\\current\\LINE.exe    N/A      |\n",
      "|    0   N/A  N/A      5376    C+G   ...e\\Current\\LogiOverlay.exe    N/A      |\n",
      "|    0   N/A  N/A      5428    C+G   ...nputApp\\TextInputHost.exe    N/A      |\n",
      "|    0   N/A  N/A      6464    C+G   ...me\\Application\\chrome.exe    N/A      |\n",
      "|    0   N/A  N/A      8036    C+G   ...artMenuExperienceHost.exe    N/A      |\n",
      "|    0   N/A  N/A      8300    C+G   C:\\Windows\\explorer.exe         N/A      |\n",
      "|    0   N/A  N/A      9092    C+G   ...y\\AccountsControlHost.exe    N/A      |\n",
      "|    0   N/A  N/A      9548    C+G   ...lPanel\\SystemSettings.exe    N/A      |\n",
      "|    0   N/A  N/A     10676    C+G   ...ekyb3d8bbwe\\YourPhone.exe    N/A      |\n",
      "|    0   N/A  N/A     10740    C+G   ...d\\app-0.0.309\\Discord.exe    N/A      |\n",
      "|    0   N/A  N/A     12448    C+G   ...perience\\NVIDIA Share.exe    N/A      |\n",
      "|    0   N/A  N/A     12644    C+G   ...perience\\NVIDIA Share.exe    N/A      |\n",
      "|    0   N/A  N/A     12832    C+G   ...wekyb3d8bbwe\\Video.UI.exe    N/A      |\n",
      "|    0   N/A  N/A     13964    C+G   ...b3d8bbwe\\WinStore.App.exe    N/A      |\n",
      "|    0   N/A  N/A     15876    C+G   ...bbwe\\Microsoft.Photos.exe    N/A      |\n",
      "|    0   N/A  N/A     17100    C+G   ...ram Files\\LGHUB\\lghub.exe    N/A      |\n",
      "|    0   N/A  N/A     18264    C+G   ...aming\\Spotify\\Spotify.exe    N/A      |\n",
      "|    0   N/A  N/A     20028    C+G   ...p-2.6.2\\GitHubDesktop.exe    N/A      |\n",
      "|    0   N/A  N/A     21120    C+G   ...h8wxbdkxb8p\\DCv2\\DCv2.exe    N/A      |\n",
      "|    0   N/A  N/A     21568    C+G   ...ropbox\\Client\\Dropbox.exe    N/A      |\n",
      "|    0   N/A  N/A     22524    C+G   ...in7x64\\steamwebhelper.exe    N/A      |\n",
      "+-----------------------------------------------------------------------------+\n"
     ]
    }
   ],
   "source": [
    "! nvidia-smi"
   ]
  },
  {
   "cell_type": "code",
   "execution_count": 3,
   "metadata": {
    "colab": {
     "base_uri": "https://localhost:8080/",
     "height": 255
    },
    "colab_type": "code",
    "executionInfo": {
     "elapsed": 3454,
     "status": "ok",
     "timestamp": 1599664849833,
     "user": {
      "displayName": "GUAN HONG LIOU",
      "photoUrl": "",
      "userId": "10989021895350056421"
     },
     "user_tz": -480
    },
    "id": "LwNPo2gRdBzL",
    "outputId": "360b8e24-f7d9-471a-bbc8-048139a05667"
   },
   "outputs": [
    {
     "name": "stdout",
     "output_type": "stream",
     "text": [
      "Collecting PyDrive\n",
      "  Downloading PyDrive-1.3.1.tar.gz (987 kB)\n",
      "Requirement already satisfied: PyYAML>=3.0 in c:\\users\\en\\anaconda3\\envs\\nlp\\lib\\site-packages (from PyDrive) (5.3.1)\n",
      "Collecting google-api-python-client>=1.2\n",
      "  Downloading google_api_python_client-1.12.8-py2.py3-none-any.whl (61 kB)\n",
      "Requirement already satisfied: google-auth>=1.16.0 in c:\\users\\en\\anaconda3\\envs\\nlp\\lib\\site-packages (from google-api-python-client>=1.2->PyDrive) (1.23.0)\n",
      "Requirement already satisfied: six<2dev,>=1.13.0 in c:\\users\\en\\appdata\\roaming\\python\\python38\\site-packages (from google-api-python-client>=1.2->PyDrive) (1.14.0)\n",
      "Collecting google-api-core<2dev,>=1.21.0\n",
      "  Downloading google_api_core-1.26.0-py2.py3-none-any.whl (92 kB)\n",
      "Requirement already satisfied: protobuf>=3.12.0 in c:\\users\\en\\anaconda3\\envs\\nlp\\lib\\site-packages (from google-api-core<2dev,>=1.21.0->google-api-python-client>=1.2->PyDrive) (3.14.0)\n",
      "Requirement already satisfied: packaging>=14.3 in c:\\users\\en\\appdata\\roaming\\python\\python38\\site-packages (from google-api-core<2dev,>=1.21.0->google-api-python-client>=1.2->PyDrive) (20.4)\n",
      "Requirement already satisfied: pytz in c:\\users\\en\\anaconda3\\envs\\nlp\\lib\\site-packages (from google-api-core<2dev,>=1.21.0->google-api-python-client>=1.2->PyDrive) (2020.4)\n",
      "Requirement already satisfied: setuptools>=40.3.0 in c:\\users\\en\\anaconda3\\envs\\nlp\\lib\\site-packages (from google-api-core<2dev,>=1.21.0->google-api-python-client>=1.2->PyDrive) (51.0.0)\n",
      "Requirement already satisfied: requests<3.0.0dev,>=2.18.0 in c:\\users\\en\\anaconda3\\envs\\nlp\\lib\\site-packages (from google-api-core<2dev,>=1.21.0->google-api-python-client>=1.2->PyDrive) (2.25.0)\n",
      "Requirement already satisfied: six<2dev,>=1.13.0 in c:\\users\\en\\appdata\\roaming\\python\\python38\\site-packages (from google-api-python-client>=1.2->PyDrive) (1.14.0)\n",
      "Requirement already satisfied: google-auth>=1.16.0 in c:\\users\\en\\anaconda3\\envs\\nlp\\lib\\site-packages (from google-api-python-client>=1.2->PyDrive) (1.23.0)\n",
      "Requirement already satisfied: pyasn1-modules>=0.2.1 in c:\\users\\en\\anaconda3\\envs\\nlp\\lib\\site-packages (from google-auth>=1.16.0->google-api-python-client>=1.2->PyDrive) (0.2.8)\n",
      "Requirement already satisfied: cachetools<5.0,>=2.0.0 in c:\\users\\en\\anaconda3\\envs\\nlp\\lib\\site-packages (from google-auth>=1.16.0->google-api-python-client>=1.2->PyDrive) (4.1.1)\n",
      "Requirement already satisfied: rsa<5,>=3.1.4 in c:\\users\\en\\anaconda3\\envs\\nlp\\lib\\site-packages (from google-auth>=1.16.0->google-api-python-client>=1.2->PyDrive) (4.6)\n",
      "Requirement already satisfied: setuptools>=40.3.0 in c:\\users\\en\\anaconda3\\envs\\nlp\\lib\\site-packages (from google-api-core<2dev,>=1.21.0->google-api-python-client>=1.2->PyDrive) (51.0.0)\n",
      "Requirement already satisfied: six<2dev,>=1.13.0 in c:\\users\\en\\appdata\\roaming\\python\\python38\\site-packages (from google-api-python-client>=1.2->PyDrive) (1.14.0)\n",
      "Collecting google-auth-httplib2>=0.0.3\n",
      "  Downloading google_auth_httplib2-0.0.4-py2.py3-none-any.whl (9.1 kB)\n",
      "Requirement already satisfied: google-auth>=1.16.0 in c:\\users\\en\\anaconda3\\envs\\nlp\\lib\\site-packages (from google-api-python-client>=1.2->PyDrive) (1.23.0)\n",
      "Requirement already satisfied: six<2dev,>=1.13.0 in c:\\users\\en\\appdata\\roaming\\python\\python38\\site-packages (from google-api-python-client>=1.2->PyDrive) (1.14.0)\n",
      "Collecting googleapis-common-protos<2.0dev,>=1.6.0\n",
      "  Downloading googleapis_common_protos-1.52.0-py2.py3-none-any.whl (100 kB)\n",
      "Requirement already satisfied: protobuf>=3.12.0 in c:\\users\\en\\anaconda3\\envs\\nlp\\lib\\site-packages (from google-api-core<2dev,>=1.21.0->google-api-python-client>=1.2->PyDrive) (3.14.0)\n",
      "Collecting httplib2<1dev,>=0.15.0\n",
      "  Downloading httplib2-0.19.0-py3-none-any.whl (95 kB)\n",
      "Requirement already satisfied: pyparsing<3,>=2.4.2 in c:\\users\\en\\appdata\\roaming\\python\\python38\\site-packages (from httplib2<1dev,>=0.15.0->google-api-python-client>=1.2->PyDrive) (2.4.7)\n",
      "Collecting oauth2client>=4.0.0\n",
      "  Downloading oauth2client-4.1.3-py2.py3-none-any.whl (98 kB)\n",
      "Requirement already satisfied: pyasn1-modules>=0.2.1 in c:\\users\\en\\anaconda3\\envs\\nlp\\lib\\site-packages (from google-auth>=1.16.0->google-api-python-client>=1.2->PyDrive) (0.2.8)\n",
      "Requirement already satisfied: pyasn1>=0.1.7 in c:\\users\\en\\anaconda3\\envs\\nlp\\lib\\site-packages (from oauth2client>=4.0.0->PyDrive) (0.4.8)\n",
      "Requirement already satisfied: six<2dev,>=1.13.0 in c:\\users\\en\\appdata\\roaming\\python\\python38\\site-packages (from google-api-python-client>=1.2->PyDrive) (1.14.0)\n",
      "Requirement already satisfied: rsa<5,>=3.1.4 in c:\\users\\en\\anaconda3\\envs\\nlp\\lib\\site-packages (from google-auth>=1.16.0->google-api-python-client>=1.2->PyDrive) (4.6)\n",
      "Requirement already satisfied: six<2dev,>=1.13.0 in c:\\users\\en\\appdata\\roaming\\python\\python38\\site-packages (from google-api-python-client>=1.2->PyDrive) (1.14.0)\n",
      "Requirement already satisfied: pyparsing<3,>=2.4.2 in c:\\users\\en\\appdata\\roaming\\python\\python38\\site-packages (from httplib2<1dev,>=0.15.0->google-api-python-client>=1.2->PyDrive) (2.4.7)\n",
      "Requirement already satisfied: six<2dev,>=1.13.0 in c:\\users\\en\\appdata\\roaming\\python\\python38\\site-packages (from google-api-python-client>=1.2->PyDrive) (1.14.0)\n",
      "Requirement already satisfied: pyasn1>=0.1.7 in c:\\users\\en\\anaconda3\\envs\\nlp\\lib\\site-packages (from oauth2client>=4.0.0->PyDrive) (0.4.8)\n",
      "Requirement already satisfied: idna<3,>=2.5 in c:\\users\\en\\anaconda3\\envs\\nlp\\lib\\site-packages (from requests<3.0.0dev,>=2.18.0->google-api-core<2dev,>=1.21.0->google-api-python-client>=1.2->PyDrive) (2.10)\n",
      "Requirement already satisfied: chardet<4,>=3.0.2 in c:\\users\\en\\anaconda3\\envs\\nlp\\lib\\site-packages (from requests<3.0.0dev,>=2.18.0->google-api-core<2dev,>=1.21.0->google-api-python-client>=1.2->PyDrive) (3.0.4)\n",
      "Requirement already satisfied: certifi>=2017.4.17 in c:\\users\\en\\anaconda3\\envs\\nlp\\lib\\site-packages (from requests<3.0.0dev,>=2.18.0->google-api-core<2dev,>=1.21.0->google-api-python-client>=1.2->PyDrive) (2020.12.5)\n",
      "Requirement already satisfied: urllib3<1.27,>=1.21.1 in c:\\users\\en\\anaconda3\\envs\\nlp\\lib\\site-packages (from requests<3.0.0dev,>=2.18.0->google-api-core<2dev,>=1.21.0->google-api-python-client>=1.2->PyDrive) (1.26.2)\n",
      "Requirement already satisfied: pyasn1>=0.1.7 in c:\\users\\en\\anaconda3\\envs\\nlp\\lib\\site-packages (from oauth2client>=4.0.0->PyDrive) (0.4.8)\n",
      "Collecting uritemplate<4dev,>=3.0.0\n",
      "  Downloading uritemplate-3.0.1-py2.py3-none-any.whl (15 kB)\n",
      "Building wheels for collected packages: PyDrive\n",
      "  Building wheel for PyDrive (setup.py): started\n",
      "  Building wheel for PyDrive (setup.py): finished with status 'done'\n",
      "  Created wheel for PyDrive: filename=PyDrive-1.3.1-py3-none-any.whl size=27435 sha256=00a063f94298df9eb6a378961ced8da5705b18791ddff347eebce54164adf9c3\n",
      "  Stored in directory: c:\\users\\en\\appdata\\local\\pip\\cache\\wheels\\c6\\14\\12\\ccdcc5d3b41661f360f9c7d9f7ea9d1879a5f85aa4ecc8cc6f\n",
      "Successfully built PyDrive\n",
      "Installing collected packages: httplib2, googleapis-common-protos, uritemplate, google-auth-httplib2, google-api-core, oauth2client, google-api-python-client, PyDrive\n",
      "Successfully installed PyDrive-1.3.1 google-api-core-1.26.0 google-api-python-client-1.12.8 google-auth-httplib2-0.0.4 googleapis-common-protos-1.52.0 httplib2-0.19.0 oauth2client-4.1.3 uritemplate-3.0.1\n"
     ]
    }
   ],
   "source": [
    "# Install dependencies for connecting Colab and Google drive\n",
    "! pip install PyDrive"
   ]
  },
  {
   "cell_type": "markdown",
   "metadata": {
    "colab_type": "text",
    "id": "fUWUEaUOtSeb"
   },
   "source": [
    "### 鑲嵌Google Drive至Colab"
   ]
  },
  {
   "cell_type": "code",
   "execution_count": 4,
   "metadata": {
    "colab": {
     "base_uri": "https://localhost:8080/",
     "height": 34
    },
    "colab_type": "code",
    "executionInfo": {
     "elapsed": 782,
     "status": "ok",
     "timestamp": 1599665985530,
     "user": {
      "displayName": "GUAN HONG LIOU",
      "photoUrl": "",
      "userId": "10989021895350056421"
     },
     "user_tz": -480
    },
    "id": "-W_Y8177dHX4",
    "outputId": "5a3a040e-c5c9-4e87-f2c9-1ed3ac0d673a"
   },
   "outputs": [
    {
     "ename": "ModuleNotFoundError",
     "evalue": "No module named 'google.colab'",
     "output_type": "error",
     "traceback": [
      "\u001b[1;31m---------------------------------------------------------------------------\u001b[0m",
      "\u001b[1;31mModuleNotFoundError\u001b[0m                       Traceback (most recent call last)",
      "\u001b[1;32m<ipython-input-4-aef5722b1ae7>\u001b[0m in \u001b[0;36m<module>\u001b[1;34m\u001b[0m\n\u001b[0;32m      1\u001b[0m \u001b[1;31m# Mount Google Drive to Colab\u001b[0m\u001b[1;33m\u001b[0m\u001b[1;33m\u001b[0m\u001b[1;33m\u001b[0m\u001b[0m\n\u001b[1;32m----> 2\u001b[1;33m \u001b[1;32mfrom\u001b[0m \u001b[0mgoogle\u001b[0m\u001b[1;33m.\u001b[0m\u001b[0mcolab\u001b[0m \u001b[1;32mimport\u001b[0m \u001b[0mdrive\u001b[0m\u001b[1;33m\u001b[0m\u001b[1;33m\u001b[0m\u001b[0m\n\u001b[0m\u001b[0;32m      3\u001b[0m \u001b[1;33m\u001b[0m\u001b[0m\n\u001b[0;32m      4\u001b[0m \u001b[0mdrive\u001b[0m\u001b[1;33m.\u001b[0m\u001b[0mmount\u001b[0m\u001b[1;33m(\u001b[0m\u001b[1;34m'/content/gdrive'\u001b[0m\u001b[1;33m)\u001b[0m\u001b[1;33m\u001b[0m\u001b[1;33m\u001b[0m\u001b[0m\n",
      "\u001b[1;31mModuleNotFoundError\u001b[0m: No module named 'google.colab'"
     ]
    }
   ],
   "source": [
    "# Mount Google Drive to Colab\n",
    "from google.colab import drive\n",
    "\n",
    "drive.mount('/content/gdrive')"
   ]
  },
  {
   "cell_type": "code",
   "execution_count": null,
   "metadata": {
    "colab": {
     "base_uri": "https://localhost:8080/",
     "height": 204
    },
    "colab_type": "code",
    "executionInfo": {
     "elapsed": 764,
     "status": "ok",
     "timestamp": 1599666168432,
     "user": {
      "displayName": "GUAN HONG LIOU",
      "photoUrl": "",
      "userId": "10989021895350056421"
     },
     "user_tz": -480
    },
    "id": "pFIL86oleT0p",
    "outputId": "a98fb8e4-5554-4aaa-b01f-a840d8a473bd"
   },
   "outputs": [],
   "source": [
    "import pandas as pd\n",
    "\n",
    "data = pd.read_csv('./gdrive/My Drive/spam.csv', usecols=[0,1], encoding=\"latin\")\n",
    "data.head()"
   ]
  },
  {
   "cell_type": "markdown",
   "metadata": {
    "colab_type": "text",
    "id": "oeSyMLfmtY3i"
   },
   "source": [
    "### 下載檔案到Colab本地端"
   ]
  },
  {
   "cell_type": "code",
   "execution_count": null,
   "metadata": {
    "colab": {},
    "colab_type": "code",
    "executionInfo": {
     "elapsed": 439606,
     "status": "ok",
     "timestamp": 1599667703019,
     "user": {
      "displayName": "GUAN HONG LIOU",
      "photoUrl": "",
      "userId": "10989021895350056421"
     },
     "user_tz": -480
    },
    "id": "UVW-HrHviCgP"
   },
   "outputs": [],
   "source": [
    "# Import libraries for importing files from Google drive to Colab\n",
    "from pydrive.auth import GoogleAuth\n",
    "from pydrive.drive import GoogleDrive\n",
    "from google.colab import auth\n",
    "from oauth2client.client import GoogleCredentials\n",
    "\n",
    "# Authorize Google SDK to access Google Drive from Colab\n",
    "\n",
    "auth.authenticate_user()\n",
    "gauth = GoogleAuth()\n",
    "gauth.credentials = GoogleCredentials.get_application_default()\n",
    "drive = GoogleDrive(gauth)"
   ]
  },
  {
   "cell_type": "code",
   "execution_count": null,
   "metadata": {
    "colab": {},
    "colab_type": "code",
    "executionInfo": {
     "elapsed": 1448,
     "status": "ok",
     "timestamp": 1599668540048,
     "user": {
      "displayName": "GUAN HONG LIOU",
      "photoUrl": "",
      "userId": "10989021895350056421"
     },
     "user_tz": -480
    },
    "id": "brwY3sv7mVd0"
   },
   "outputs": [],
   "source": [
    "download = drive.CreateFile({'id': '1ofhL1yM59N3TyK7WsgXqMYVOp8VNYApH'})\n",
    "download.GetContentFile('spam.csv')"
   ]
  },
  {
   "cell_type": "code",
   "execution_count": null,
   "metadata": {
    "colab": {
     "base_uri": "https://localhost:8080/",
     "height": 34
    },
    "colab_type": "code",
    "executionInfo": {
     "elapsed": 743,
     "status": "ok",
     "timestamp": 1599668617678,
     "user": {
      "displayName": "GUAN HONG LIOU",
      "photoUrl": "",
      "userId": "10989021895350056421"
     },
     "user_tz": -480
    },
    "id": "PyKHM53ZrMyM",
    "outputId": "ca4b474b-41f2-4875-f743-bd3e26b214b5"
   },
   "outputs": [],
   "source": [
    "! ls"
   ]
  },
  {
   "cell_type": "code",
   "execution_count": null,
   "metadata": {
    "colab": {
     "base_uri": "https://localhost:8080/",
     "height": 204
    },
    "colab_type": "code",
    "executionInfo": {
     "elapsed": 1371,
     "status": "ok",
     "timestamp": 1599669005347,
     "user": {
      "displayName": "GUAN HONG LIOU",
      "photoUrl": "",
      "userId": "10989021895350056421"
     },
     "user_tz": -480
    },
    "id": "f6tSqJoDs2kL",
    "outputId": "92cd23dd-8d95-49ee-e52b-a127efb220bd"
   },
   "outputs": [],
   "source": [
    "import pandas as pd\n",
    "\n",
    "data = pd.read_csv('./spam.csv', usecols=[0,1], encoding=\"latin\")\n",
    "data.head()"
   ]
  },
  {
   "cell_type": "markdown",
   "metadata": {
    "colab_type": "text",
    "id": "dgs6IdS_th21"
   },
   "source": [
    "### 儲存檔案到Google Drive"
   ]
  },
  {
   "cell_type": "code",
   "execution_count": null,
   "metadata": {
    "colab": {},
    "colab_type": "code",
    "executionInfo": {
     "elapsed": 763,
     "status": "ok",
     "timestamp": 1599669525849,
     "user": {
      "displayName": "GUAN HONG LIOU",
      "photoUrl": "",
      "userId": "10989021895350056421"
     },
     "user_tz": -480
    },
    "id": "dh3yui6luc1o"
   },
   "outputs": [],
   "source": [
    "import os\n",
    "\n",
    "#將讀取的資料存入Google Drive並命名為spam_colab_to_drive.csv\n",
    "save_path = './gdrive/My Drive/'\n",
    "data.to_csv(os.path.join(save_path, 'spam_colab_to_drive.csv'), index=False)"
   ]
  },
  {
   "cell_type": "code",
   "execution_count": null,
   "metadata": {},
   "outputs": [],
   "source": []
  }
 ],
 "metadata": {
  "accelerator": "GPU",
  "colab": {
   "authorship_tag": "ABX9TyPoHNPi0tvyZhOHLTbMUuRQ",
   "name": "Untitled0.ipynb",
   "provenance": []
  },
  "kernelspec": {
   "display_name": "NLP",
   "language": "python",
   "name": "nlp"
  },
  "language_info": {
   "codemirror_mode": {
    "name": "ipython",
    "version": 3
   },
   "file_extension": ".py",
   "mimetype": "text/x-python",
   "name": "python",
   "nbconvert_exporter": "python",
   "pygments_lexer": "ipython3",
   "version": "3.8.5"
  }
 },
 "nbformat": 4,
 "nbformat_minor": 4
}
