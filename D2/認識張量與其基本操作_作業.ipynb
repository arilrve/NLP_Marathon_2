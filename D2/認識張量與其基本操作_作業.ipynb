{
 "cells": [
  {
   "cell_type": "markdown",
   "metadata": {},
   "source": [
    "### 選定的API 函數\n",
    "\n",
    "**請寫下選定的API functions**\n",
    "\n",
    "ex:\n",
    "* torch.from_array() / tensor.numpy()\n",
    "* torch.unsqueeze() / torch.squeeze()\n",
    "* tensor.transpose() / tensor.permute()\n",
    "* torch.reshape() / tensor.view()"
   ]
  },
  {
   "cell_type": "code",
   "execution_count": 1,
   "metadata": {},
   "outputs": [],
   "source": [
    "# Import torch and other required modules\n",
    "import torch\n",
    "import numpy as np"
   ]
  },
  {
   "cell_type": "markdown",
   "metadata": {},
   "source": [
    "### 範例:\n",
    "### Function 1 - torch.from_array() / tensor.numpy()"
   ]
  },
  {
   "cell_type": "code",
   "execution_count": 2,
   "metadata": {},
   "outputs": [
    {
     "name": "stdout",
     "output_type": "stream",
     "text": [
      "a: <class 'numpy.ndarray'>, float64\n",
      "b: <class 'torch.Tensor'>, torch.float64\n",
      "c: <class 'torch.Tensor'>, torch.float64\n",
      "d: <class 'numpy.ndarray'>, float64\n"
     ]
    }
   ],
   "source": [
    "# Example 1 - 將torch tensor與numpy ndarray互相轉換\n",
    "a = np.random.rand(1,2,3,3)\n",
    "print(f'a: {type(a)}, {a.dtype}')\n",
    "b = torch.from_numpy(a)\n",
    "print(f'b: {type(b)}, {b.dtype}')\n",
    "c = torch.tensor(a)\n",
    "print(f'c: {type(c)}, {c.dtype}')\n",
    "d = c.numpy()\n",
    "print(f'd: {type(d)}, {d.dtype}')"
   ]
  },
  {
   "cell_type": "code",
   "execution_count": 4,
   "metadata": {},
   "outputs": [
    {
     "name": "stdout",
     "output_type": "stream",
     "text": [
      "a: <class 'numpy.ndarray'>, int64\n",
      "b: <class 'torch.Tensor'>, torch.int64\n",
      "c: <class 'torch.Tensor'>, torch.int64\n",
      "d: <class 'numpy.ndarray'>, int64\n"
     ]
    }
   ],
   "source": [
    "# Example 2 - 經過轉換後，torch tensor與numpy array依然有相近的資料型態\n",
    "a = np.random.randint(low=0, high=10, size=(2,2))\n",
    "print(f'a: {type(a)}, {a.dtype}')\n",
    "b = torch.from_numpy(a)\n",
    "print(f'b: {type(b)}, {b.dtype}')\n",
    "c = torch.tensor(a)\n",
    "print(f'c: {type(c)}, {c.dtype}')\n",
    "d = c.numpy()\n",
    "print(f'd: {type(d)}, {d.dtype}')"
   ]
  },
  {
   "cell_type": "markdown",
   "metadata": {},
   "source": [
    "### Function 1 - *sigmod*"
   ]
  },
  {
   "cell_type": "code",
   "execution_count": 5,
   "metadata": {},
   "outputs": [
    {
     "name": "stdout",
     "output_type": "stream",
     "text": [
      "b: tensor([0.4140, 0.7007, 0.7453, 0.5444]) , <class 'torch.Tensor'> , torch.float32\n"
     ]
    }
   ],
   "source": [
    "# Example 1 - ### your explanation ###\n",
    "a = torch.randn(4)\n",
    "b = torch.sigmoid(a)\n",
    "print(f'b: {b} , {type(b)} , {b.dtype}')"
   ]
  },
  {
   "cell_type": "markdown",
   "metadata": {},
   "source": [
    "### Function 2 - torch.mean"
   ]
  },
  {
   "cell_type": "code",
   "execution_count": 6,
   "metadata": {},
   "outputs": [
    {
     "name": "stdout",
     "output_type": "stream",
     "text": [
      "b: 0.801093339920044 , <class 'torch.Tensor'> , torch.float32\n"
     ]
    }
   ],
   "source": [
    "# Example 1 - ### your explanation ###\n",
    "a = torch.randn(4)\n",
    "b = torch.mean(a)\n",
    "print(f\"b: {b} , {type(b)} , {b.dtype}\")"
   ]
  },
  {
   "cell_type": "markdown",
   "metadata": {},
   "source": [
    "### Function 3 - torch.log"
   ]
  },
  {
   "cell_type": "code",
   "execution_count": 29,
   "metadata": {},
   "outputs": [
    {
     "name": "stdout",
     "output_type": "stream",
     "text": [
      "tensor([   nan,    nan, 0.1380, 0.3399]) , <class 'torch.Tensor'> , torch.float32\n"
     ]
    }
   ],
   "source": [
    "# Example 1 - ### your explanation ###\n",
    "a = torch.randn(4)\n",
    "b = torch.log(a)\n",
    "print(f\"{b} , {type(b)} , {b.dtype}\")"
   ]
  },
  {
   "cell_type": "markdown",
   "metadata": {},
   "source": [
    "### Function 4 - torch.mul / torch.mm"
   ]
  },
  {
   "cell_type": "code",
   "execution_count": 40,
   "metadata": {},
   "outputs": [
    {
     "name": "stdout",
     "output_type": "stream",
     "text": [
      "a1 : {tensor([[-0.4337, -0.2493, -0.2950, -1.0437],\n",
      "        [ 1.6468, -0.0210, -0.2251,  0.7939]])}\n",
      "a2 : {tensor([[ 0.2371,  1.1814],\n",
      "        [ 0.1296,  0.0193],\n",
      "        [-0.6476,  1.1125],\n",
      "        [-1.7227, -1.1204]])}\n",
      "b : {tensor([[-0.5226, -0.0897],\n",
      "        [ 0.8559, -0.0778],\n",
      "        [-1.5908,  1.0207],\n",
      "        [ 0.0034,  0.6097]])}\n",
      "C: tensor([[-4.9578,  0.9195],\n",
      "        [ 3.4472, -1.2163]])\n",
      "D: tensor([[-0.1239, -0.1060],\n",
      "        [ 0.1109, -0.0015],\n",
      "        [ 1.0302,  1.1356],\n",
      "        [-0.0059, -0.6832]])\n"
     ]
    }
   ],
   "source": [
    "# Example 1 - ### your explanation ###\n",
    "a1 = torch.randn(2,4)\n",
    "print(\"a1 :\", {a})\n",
    "\n",
    "a2 = torch.randn(4,2)\n",
    "print(\"a2 :\", {a2})\n",
    "\n",
    "b = torch.randn(4,2)\n",
    "print(\"b :\", {b})\n",
    "\n",
    "c = torch.mm(a1 , b)\n",
    "print(f\"C: {c}\")\n",
    "\n",
    "d = torch.mul(a2 , b)\n",
    "print(f\"D: {d}\")"
   ]
  },
  {
   "cell_type": "code",
   "execution_count": null,
   "metadata": {},
   "outputs": [],
   "source": []
  }
 ],
 "metadata": {
  "kernelspec": {
   "display_name": "NLP",
   "language": "python",
   "name": "nlp"
  },
  "language_info": {
   "codemirror_mode": {
    "name": "ipython",
    "version": 3
   },
   "file_extension": ".py",
   "mimetype": "text/x-python",
   "name": "python",
   "nbconvert_exporter": "python",
   "pygments_lexer": "ipython3",
   "version": "3.8.5"
  }
 },
 "nbformat": 4,
 "nbformat_minor": 4
}
